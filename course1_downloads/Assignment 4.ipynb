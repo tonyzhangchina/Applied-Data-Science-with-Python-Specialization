{
 "cells": [
  {
   "cell_type": "markdown",
   "metadata": {},
   "source": [
    "---\n",
    "\n",
    "_You are currently looking at **version 1.1** of this notebook. To download notebooks and datafiles, as well as get help on Jupyter notebooks in the Coursera platform, visit the [Jupyter Notebook FAQ](https://www.coursera.org/learn/python-data-analysis/resources/0dhYG) course resource._\n",
    "\n",
    "---"
   ]
  },
  {
   "cell_type": "code",
   "execution_count": 315,
   "metadata": {},
   "outputs": [],
   "source": [
    "import pandas as pd\n",
    "import numpy as np\n",
    "from scipy.stats import ttest_ind"
   ]
  },
  {
   "cell_type": "markdown",
   "metadata": {},
   "source": [
    "# Assignment 4 - Hypothesis Testing\n",
    "This assignment requires more individual learning than previous assignments - you are encouraged to check out the [pandas documentation](http://pandas.pydata.org/pandas-docs/stable/) to find functions or methods you might not have used yet, or ask questions on [Stack Overflow](http://stackoverflow.com/) and tag them as pandas and python related. And of course, the discussion forums are open for interaction with your peers and the course staff.\n",
    "\n",
    "Definitions:\n",
    "* A _quarter_ is a specific three month period, Q1 is January through March, Q2 is April through June, Q3 is July through September, Q4 is October through December.\n",
    "* A _recession_ is defined as starting with two consecutive quarters of GDP decline, and ending with two consecutive quarters of GDP growth.\n",
    "* A _recession bottom_ is the quarter within a recession which had the lowest GDP.\n",
    "* A _university town_ is a city which has a high percentage of university students compared to the total population of the city.\n",
    "\n",
    "**Hypothesis**: University towns have their mean housing prices less effected by recessions. Run a t-test to compare the ratio of the mean price of houses in university towns the quarter before the recession starts compared to the recession bottom. (`price_ratio=quarter_before_recession/recession_bottom`)\n",
    "\n",
    "The following data files are available for this assignment:\n",
    "* From the [Zillow research data site](http://www.zillow.com/research/data/) there is housing data for the United States. In particular the datafile for [all homes at a city level](http://files.zillowstatic.com/research/public/City/City_Zhvi_AllHomes.csv), ```City_Zhvi_AllHomes.csv```, has median home sale prices at a fine grained level.\n",
    "* From the Wikipedia page on college towns is a list of [university towns in the United States](https://en.wikipedia.org/wiki/List_of_college_towns#College_towns_in_the_United_States) which has been copy and pasted into the file ```university_towns.txt```.\n",
    "* From Bureau of Economic Analysis, US Department of Commerce, the [GDP over time](http://www.bea.gov/national/index.htm#gdp) of the United States in current dollars (use the chained value in 2009 dollars), in quarterly intervals, in the file ```gdplev.xls```. For this assignment, only look at GDP data from the first quarter of 2000 onward.\n",
    "\n",
    "Each function in this assignment below is worth 10%, with the exception of ```run_ttest()```, which is worth 50%."
   ]
  },
  {
   "cell_type": "code",
   "execution_count": 316,
   "metadata": {},
   "outputs": [],
   "source": [
    "# Use this dictionary to map state names to two letter acronyms\n",
    "states = {'OH': 'Ohio', 'KY': 'Kentucky', 'AS': 'American Samoa', 'NV': 'Nevada', 'WY': 'Wyoming', 'NA': 'National', 'AL': 'Alabama', 'MD': 'Maryland', 'AK': 'Alaska', 'UT': 'Utah', 'OR': 'Oregon', 'MT': 'Montana', 'IL': 'Illinois', 'TN': 'Tennessee', 'DC': 'District of Columbia', 'VT': 'Vermont', 'ID': 'Idaho', 'AR': 'Arkansas', 'ME': 'Maine', 'WA': 'Washington', 'HI': 'Hawaii', 'WI': 'Wisconsin', 'MI': 'Michigan', 'IN': 'Indiana', 'NJ': 'New Jersey', 'AZ': 'Arizona', 'GU': 'Guam', 'MS': 'Mississippi', 'PR': 'Puerto Rico', 'NC': 'North Carolina', 'TX': 'Texas', 'SD': 'South Dakota', 'MP': 'Northern Mariana Islands', 'IA': 'Iowa', 'MO': 'Missouri', 'CT': 'Connecticut', 'WV': 'West Virginia', 'SC': 'South Carolina', 'LA': 'Louisiana', 'KS': 'Kansas', 'NY': 'New York', 'NE': 'Nebraska', 'OK': 'Oklahoma', 'FL': 'Florida', 'CA': 'California', 'CO': 'Colorado', 'PA': 'Pennsylvania', 'DE': 'Delaware', 'NM': 'New Mexico', 'RI': 'Rhode Island', 'MN': 'Minnesota', 'VI': 'Virgin Islands', 'NH': 'New Hampshire', 'MA': 'Massachusetts', 'GA': 'Georgia', 'ND': 'North Dakota', 'VA': 'Virginia'}"
   ]
  },
  {
   "cell_type": "code",
   "execution_count": 317,
   "metadata": {},
   "outputs": [
    {
     "data": {
      "text/html": [
       "<div>\n",
       "<style scoped>\n",
       "    .dataframe tbody tr th:only-of-type {\n",
       "        vertical-align: middle;\n",
       "    }\n",
       "\n",
       "    .dataframe tbody tr th {\n",
       "        vertical-align: top;\n",
       "    }\n",
       "\n",
       "    .dataframe thead th {\n",
       "        text-align: right;\n",
       "    }\n",
       "</style>\n",
       "<table border=\"1\" class=\"dataframe\">\n",
       "  <thead>\n",
       "    <tr style=\"text-align: right;\">\n",
       "      <th></th>\n",
       "      <th>State</th>\n",
       "      <th>RegionName</th>\n",
       "    </tr>\n",
       "  </thead>\n",
       "  <tbody>\n",
       "    <tr>\n",
       "      <th>0</th>\n",
       "      <td>Alabama</td>\n",
       "      <td>Auburn</td>\n",
       "    </tr>\n",
       "    <tr>\n",
       "      <th>1</th>\n",
       "      <td>Alabama</td>\n",
       "      <td>Florence</td>\n",
       "    </tr>\n",
       "    <tr>\n",
       "      <th>2</th>\n",
       "      <td>Alabama</td>\n",
       "      <td>Jacksonville</td>\n",
       "    </tr>\n",
       "    <tr>\n",
       "      <th>3</th>\n",
       "      <td>Alabama</td>\n",
       "      <td>Livingston</td>\n",
       "    </tr>\n",
       "    <tr>\n",
       "      <th>4</th>\n",
       "      <td>Alabama</td>\n",
       "      <td>Montevallo</td>\n",
       "    </tr>\n",
       "    <tr>\n",
       "      <th>...</th>\n",
       "      <td>...</td>\n",
       "      <td>...</td>\n",
       "    </tr>\n",
       "    <tr>\n",
       "      <th>512</th>\n",
       "      <td>Wisconsin</td>\n",
       "      <td>River Falls</td>\n",
       "    </tr>\n",
       "    <tr>\n",
       "      <th>513</th>\n",
       "      <td>Wisconsin</td>\n",
       "      <td>Stevens Point</td>\n",
       "    </tr>\n",
       "    <tr>\n",
       "      <th>514</th>\n",
       "      <td>Wisconsin</td>\n",
       "      <td>Waukesha</td>\n",
       "    </tr>\n",
       "    <tr>\n",
       "      <th>515</th>\n",
       "      <td>Wisconsin</td>\n",
       "      <td>Whitewater</td>\n",
       "    </tr>\n",
       "    <tr>\n",
       "      <th>516</th>\n",
       "      <td>Wyoming</td>\n",
       "      <td>Laramie</td>\n",
       "    </tr>\n",
       "  </tbody>\n",
       "</table>\n",
       "<p>517 rows × 2 columns</p>\n",
       "</div>"
      ],
      "text/plain": [
       "         State     RegionName\n",
       "0      Alabama         Auburn\n",
       "1      Alabama       Florence\n",
       "2      Alabama   Jacksonville\n",
       "3      Alabama     Livingston\n",
       "4      Alabama     Montevallo\n",
       "..         ...            ...\n",
       "512  Wisconsin    River Falls\n",
       "513  Wisconsin  Stevens Point\n",
       "514  Wisconsin       Waukesha\n",
       "515  Wisconsin     Whitewater\n",
       "516    Wyoming        Laramie\n",
       "\n",
       "[517 rows x 2 columns]"
      ]
     },
     "execution_count": 317,
     "metadata": {},
     "output_type": "execute_result"
    }
   ],
   "source": [
    "pd.set_option('display.max_rows', 10)\n",
    "def get_list_of_university_towns():\n",
    "    '''Returns a DataFrame of towns and the states they are in from the \n",
    "    university_towns.txt list. The format of the DataFrame should be:\n",
    "    DataFrame( [ [\"Michigan\", \"Ann Arbor\"], [\"Michigan\", \"Yipsilanti\"] ], \n",
    "    columns=[\"State\", \"RegionName\"]  )\n",
    "    \n",
    "    The following cleaning needs to be done:\n",
    "\n",
    "    1. For \"State\", removing characters from \"[\" to the end.\n",
    "    2. For \"RegionName\", when applicable, removing every character from \" (\" to the end.\n",
    "    3. Depending on how you read the data, you may need to remove newline character '\\n'. '''\n",
    "    df_states = pd.DataFrame.from_dict(states, orient='index')\n",
    "    df_states.columns = ['State']\n",
    "    df_states['State_label'] = df_states['State'] + '[edit]'\n",
    "    #print(df_states)\n",
    "    university_towns = pd.read_csv(\"university_towns.txt\", usecols=[0], \n",
    "                                   delim_whitespace=False,delimiter = '?', \n",
    "                                   index_col = None, names = ['RegionName'])\n",
    "    university_towns = university_towns.merge(df_states, how = 'left', left_on = 'RegionName', right_on = 'State_label')\n",
    "    university_towns = university_towns[['State','RegionName']].ffill()\n",
    "    university_towns = university_towns[university_towns['RegionName'].isin(df_states['State_label']) == False]\n",
    "    university_towns['RegionName'] = university_towns['RegionName'].map(lambda x : x[:x.index(' (')] if '(' in x else x )\n",
    "    university_towns.reset_index(drop=True, inplace=True)\n",
    "    \n",
    "    return university_towns\n",
    "\n",
    "get_list_of_university_towns()"
   ]
  },
  {
   "cell_type": "code",
   "execution_count": 318,
   "metadata": {},
   "outputs": [
    {
     "data": {
      "text/plain": [
       "'2008q3'"
      ]
     },
     "execution_count": 318,
     "metadata": {},
     "output_type": "execute_result"
    }
   ],
   "source": [
    "pd.set_option('display.max_rows', 100)\n",
    "def get_recession_start():\n",
    "    '''Returns the year and quarter of the recession start time as a \n",
    "    string value in a format such as 2005q3'''\n",
    "    \n",
    "    gdp = pd.read_excel('gdplev.xls', header=6, \n",
    "                        usecols='E:G', \n",
    "                        names = ['Quarter','GDP in billions of current dollars', 'GDP in billions of chained 2009 dollars'])\n",
    "    \n",
    "    gdp = gdp[gdp['Quarter'] >= '2000q1'].reset_index(drop = True)\n",
    "    answer = []\n",
    "    for id in gdp[gdp['Quarter'] <= '2015q4'].index:\n",
    "        if ( gdp.loc[id]['GDP in billions of chained 2009 dollars'] > gdp.loc[id + 1]['GDP in billions of chained 2009 dollars']\n",
    "             and gdp.loc[id+1]['GDP in billions of chained 2009 dollars'] > gdp.loc[id + 2]['GDP in billions of chained 2009 dollars']) :\n",
    "            answer.append(gdp.loc[id + 1]['Quarter'])\n",
    "    \n",
    "    return min(answer)\n",
    "\n",
    "get_recession_start()"
   ]
  },
  {
   "cell_type": "code",
   "execution_count": 319,
   "metadata": {},
   "outputs": [
    {
     "data": {
      "text/plain": [
       "'2009q4'"
      ]
     },
     "execution_count": 319,
     "metadata": {},
     "output_type": "execute_result"
    }
   ],
   "source": [
    "def get_recession_end():\n",
    "    '''Returns the year and quarter of the recession end time as a \n",
    "    string value in a format such as 2005q3'''\n",
    "       \n",
    "    gdp = pd.read_excel('gdplev.xls', header=6, \n",
    "                        usecols='E:G', \n",
    "                        names = ['Quarter','GDP in billions of current dollars', 'GDP in billions of chained 2009 dollars'])\n",
    "    \n",
    "    gdp = gdp[gdp['Quarter'] >= '2000q1'].reset_index(drop = True)\n",
    "    answer = []\n",
    "    for id in gdp[(gdp['Quarter'] >= '2008q2') & (gdp['Quarter'] <= '2015q4')].index:\n",
    "        if ( gdp.loc[id]['GDP in billions of chained 2009 dollars'] < gdp.loc[id + 1]['GDP in billions of chained 2009 dollars']\n",
    "             and gdp.loc[id+1]['GDP in billions of chained 2009 dollars'] < gdp.loc[id + 2]['GDP in billions of chained 2009 dollars']) :\n",
    "            answer.append(gdp.loc[id+2]['Quarter'])\n",
    "    \n",
    "    return min(answer)\n",
    "\n",
    "get_recession_end()"
   ]
  },
  {
   "cell_type": "code",
   "execution_count": 320,
   "metadata": {},
   "outputs": [
    {
     "data": {
      "text/plain": [
       "'2009q2'"
      ]
     },
     "execution_count": 320,
     "metadata": {},
     "output_type": "execute_result"
    }
   ],
   "source": [
    "def get_recession_bottom():\n",
    "    '''Returns the year and quarter of the recession bottom time as a \n",
    "    string value in a format such as 2005q3'''\n",
    "    \n",
    "    gdp = pd.read_excel('gdplev.xls', header=6, \n",
    "                        usecols='E:G', \n",
    "                        names = ['Quarter','GDP in billions of current dollars', 'GDP in billions of chained 2009 dollars'])\n",
    "    \n",
    "    gdp = gdp[(gdp['Quarter'] >= '2008q3') & (gdp['Quarter'] <= '2009q4')].reset_index(drop = True)\n",
    "    \n",
    "    #answer = gdp[gdp['GDP in billions of chained 2009 dollars'] == gdp['GDP in billions of chained 2009 dollars'].min()]\n",
    "    answer = gdp.loc[gdp['GDP in billions of chained 2009 dollars'].idxmin()]['Quarter']\n",
    "    \n",
    "    return answer\n",
    "\n",
    "get_recession_bottom()"
   ]
  },
  {
   "cell_type": "code",
   "execution_count": 321,
   "metadata": {},
   "outputs": [],
   "source": [
    "def convert_housing_data_to_quarters():\n",
    "    '''Converts the housing data to quarters and returns it as mean \n",
    "    values in a dataframe. This dataframe should be a dataframe with\n",
    "    columns for 2000q1 through 2016q3, and should have a multi-index\n",
    "    in the shape of [\"State\",\"RegionName\"].\n",
    "    \n",
    "    Note: Quarters are defined in the assignment description, they are\n",
    "    not arbitrary three month periods.\n",
    "    \n",
    "    The resulting dataframe should have 67 columns, and 10,730 rows.\n",
    "    '''\n",
    "    housing_data = pd.read_csv('City_Zhvi_AllHomes.csv')\n",
    "    drop_columns = ['1996-04','1996-05','1996-06',\n",
    "                    '1996-07','1996-08','1996-09',\n",
    "                    '1996-10','1996-11','1996-12',\n",
    "                    '1997-01','1997-02','1997-03',\n",
    "                    '1997-04','1997-05','1997-06',\n",
    "                    '1997-07','1997-08','1997-09',\n",
    "                    '1997-10','1997-11','1997-12',\n",
    "                    '1998-01','1998-02','1998-03',\n",
    "                    '1998-04','1998-05','1998-06',\n",
    "                    '1998-07','1998-08','1998-09',\n",
    "                    '1998-10','1998-11','1998-12',\n",
    "                    '1999-01','1999-02','1999-03',\n",
    "                    '1999-04','1999-05','1999-06',\n",
    "                    '1999-07','1999-08','1999-09',\n",
    "                    '1999-10','1999-11','1999-12',\n",
    "                    'RegionID','Metro','CountyName','SizeRank']\n",
    "    housing_data.drop(drop_columns, inplace = True, axis = 1)\n",
    "    housing_data['State'] = housing_data['State'].map(states)\n",
    "    housing_data.set_index([\"State\",\"RegionName\"], inplace = True)\n",
    "    housing_data.columns = (pd.to_datetime(housing_data.columns)\n",
    "                            .to_period('Q')\n",
    "                            .to_series()\n",
    "                            .astype(str))\n",
    "    housing_data.columns = map(str.lower, housing_data.columns)\n",
    "    answer = housing_data.groupby(level = 0, axis = 1).mean()\n",
    "    \n",
    "    return answer"
   ]
  },
  {
   "cell_type": "code",
   "execution_count": 348,
   "metadata": {},
   "outputs": [
    {
     "data": {
      "text/plain": [
       "(True, 0.004325214853459962, 'university town')"
      ]
     },
     "execution_count": 348,
     "metadata": {},
     "output_type": "execute_result"
    }
   ],
   "source": [
    "def run_ttest():\n",
    "    '''First creates new data showing the decline or growth of housing prices\n",
    "    between the recession start and the recession bottom. Then runs a ttest\n",
    "    comparing the university town values to the non-university towns values, \n",
    "    return whether the alternative hypothesis (that the two groups are the same)\n",
    "    is true or not as well as the p-value of the confidence. \n",
    "    \n",
    "    Return the tuple (different, p, better) where different=True if the t-test is\n",
    "    True at a p<0.01 (we reject the null hypothesis), or different=False if \n",
    "    otherwise (we cannot reject the null hypothesis). The variable p should\n",
    "    be equal to the exact p value returned from scipy.stats.ttest_ind(). The\n",
    "    value for better should be either \"university town\" or \"non-university town\"\n",
    "    depending on which has a lower mean price ratio (which is equivilent to a\n",
    "    reduced market loss).'''\n",
    "    \n",
    "    recession_start = get_recession_start()\n",
    "    recession_bottom = get_recession_bottom()\n",
    "    \n",
    "    housing_data = convert_housing_data_to_quarters()\n",
    "    university_towns = get_list_of_university_towns()\n",
    "    \n",
    "    housing_data['recession_price_change'] = housing_data[recession_bottom] - housing_data[recession_start]\n",
    "    housing_data['price_ratio'] = housing_data['2008q2'] / housing_data[recession_bottom]\n",
    "\n",
    "    all_towns_housing_data = pd.merge(housing_data,\n",
    "                                              university_towns, \n",
    "                                              how='left',\n",
    "                                              on = [\"State\", \"RegionName\"],\n",
    "                                              indicator=True)\n",
    "    university_towns_housing_data = all_towns_housing_data[all_towns_housing_data['_merge'] == 'both']\n",
    "    non_university_towns_housing_data = all_towns_housing_data[all_towns_housing_data['_merge'] == 'left_only']\n",
    "    \n",
    "    answer = ttest_ind(university_towns_housing_data['recession_price_change'],\n",
    "             non_university_towns_housing_data['recession_price_change'], nan_policy='omit')\n",
    "    \n",
    "    university_towns_mean = university_towns_housing_data['price_ratio'].mean()\n",
    "    non_university_towns_mean = non_university_towns_housing_data['price_ratio'].mean()\n",
    "\n",
    "    if answer.pvalue < 0.01:\n",
    "        difference = True\n",
    "    else:\n",
    "        difference = False\n",
    "    \n",
    "    if university_towns_mean < non_university_towns_mean:\n",
    "        better = \"university town\"\n",
    "    else:\n",
    "        better = \"non-university town\"\n",
    "    \n",
    "    return difference,answer.pvalue,better\n",
    "\n",
    "run_ttest()"
   ]
  },
  {
   "cell_type": "code",
   "execution_count": null,
   "metadata": {},
   "outputs": [],
   "source": []
  }
 ],
 "metadata": {
  "coursera": {
   "course_slug": "python-data-analysis",
   "graded_item_id": "Il9Fx",
   "launcher_item_id": "TeDW0",
   "part_id": "WGlun"
  },
  "hide_input": false,
  "kernelspec": {
   "display_name": "Python 3",
   "language": "python",
   "name": "python3"
  },
  "language_info": {
   "codemirror_mode": {
    "name": "ipython",
    "version": 3
   },
   "file_extension": ".py",
   "mimetype": "text/x-python",
   "name": "python",
   "nbconvert_exporter": "python",
   "pygments_lexer": "ipython3",
   "version": "3.6.5"
  }
 },
 "nbformat": 4,
 "nbformat_minor": 1
}
